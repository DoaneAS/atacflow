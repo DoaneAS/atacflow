{
 "cells": [
  {
   "cell_type": "code",
   "execution_count": 1,
   "metadata": {},
   "outputs": [
    {
     "name": "stderr",
     "output_type": "stream",
     "text": [
      "usage: ENCODE DCC FRiP. [-h] [--chrsz CHRSZ] [--fraglen FRAGLEN]\n",
      "                        [--out-dir OUT_DIR]\n",
      "                        [--log-level {NOTSET,DEBUG,INFO,WARNING,CRITICAL,ERROR,CRITICAL}]\n",
      "                        peak ta\n",
      "ENCODE DCC FRiP.: error: too few arguments\n"
     ]
    },
    {
     "ename": "SystemExit",
     "evalue": "2",
     "output_type": "error",
     "traceback": [
      "An exception has occurred, use %tb to see the full traceback.\n",
      "\u001b[0;31mSystemExit\u001b[0m\u001b[0;31m:\u001b[0m 2\n"
     ]
    },
    {
     "name": "stderr",
     "output_type": "stream",
     "text": [
      "/home/asd2007/miniconda3/envs/atacFlow/lib/python2.7/site-packages/IPython/core/interactiveshell.py:2886: UserWarning: To exit: use 'exit', 'quit', or Ctrl-D.\n",
      "  warn(\"To exit: use 'exit', 'quit', or Ctrl-D.\", stacklevel=1)\n"
     ]
    }
   ],
   "source": [
    "#!/usr/bin/env python\n",
    "\n",
    "# ENCODE DCC FRiP wrapper\n",
    "# Author: Jin Lee (leepc12@gmail.com)\n",
    "\n",
    "import sys\n",
    "import os\n",
    "import argparse\n",
    "from encode_common import *\n",
    "\n",
    "def parse_arguments():\n",
    "    parser = argparse.ArgumentParser(prog='ENCODE DCC FRiP.',\n",
    "                                        description='')\n",
    "    parser.add_argument('peak', type=str,\n",
    "                        help='Peak file.')\n",
    "    parser.add_argument('ta', type=str,\n",
    "                        help='TAGALIGN file.')\n",
    "    parser.add_argument('--chrsz', type=str,\n",
    "                        help='2-col chromosome sizes file. \\\n",
    "                        If given, do shifted FRiP (for ChIP-Seq).')\n",
    "    parser.add_argument('--fraglen', type=int, default=0,\n",
    "                        help='Fragment length for TAGALIGN file. \\\n",
    "                        If given, do shifted FRiP (for ChIP-Seq).')\n",
    "    parser.add_argument('--out-dir', default='', type=str,\n",
    "                        help='Output directory.')\n",
    "    parser.add_argument('--log-level', default='INFO', \n",
    "                        choices=['NOTSET','DEBUG','INFO',\n",
    "                            'WARNING','CRITICAL','ERROR','CRITICAL'],\n",
    "                        help='Log level')\n",
    "    args = parser.parse_args()\n",
    "\n",
    "    log.setLevel(args.log_level)\n",
    "    log.info(sys.argv)\n",
    "    return args\n",
    "\n",
    "def frip(ta, peak, out_dir):\n",
    "    prefix = os.path.join(out_dir, \n",
    "        os.path.basename(strip_ext(peak)))\n",
    "    frip_qc = '{}.frip.qc'.format(prefix)\n",
    "\n",
    "    if get_num_lines(peak)==0:\n",
    "        val1 = 0.0\n",
    "    else:\n",
    "        # due to bedtools bug when .gz is given for -a and -b\n",
    "        tmp1 = gunzip(ta, 'tmp1', out_dir)\n",
    "        tmp2 = gunzip(peak, 'tmp2', out_dir)    \n",
    "\n",
    "        cmd = 'bedtools intersect -a {} -b {} -wa -u | wc -l'\n",
    "        cmd = cmd.format(\n",
    "            tmp1, # ta\n",
    "            tmp2) # peak\n",
    "        val1 = run_shell_cmd(cmd)\n",
    "    val2 = get_num_lines(ta)\n",
    "    write_txt(frip_qc, str(float(val1)/float(val2)))\n",
    "    rm_f([tmp1, tmp2])\n",
    "    return frip_qc\n",
    "\n",
    "def frip_shifted(ta, peak, chrsz, fraglen, out_dir):\n",
    "    prefix = os.path.join(out_dir, \n",
    "        os.path.basename(strip_ext(peak)))\n",
    "    frip_qc = '{}.frip.qc'.format(prefix)\n",
    "    half_fraglen = (fraglen+1)/2\n",
    "\n",
    "    if get_num_lines(peak)==0:\n",
    "        val1 = 0.0\n",
    "    else:\n",
    "        # due to bedtools bug when .gz is given for -a and -b\n",
    "        tmp2 = gunzip(peak, 'tmp2', out_dir)    \n",
    "\n",
    "        cmd = 'bedtools slop -i {} -g {} '\n",
    "        cmd += '-s -l {} -r {} | '\n",
    "        cmd += 'awk \\'{{if ($2>=0 && $3>=0 && $2<=$3) print $0}}\\' | '\n",
    "        cmd += 'bedtools intersect -a stdin -b {} '\n",
    "        cmd += '-wa -u | wc -l'\n",
    "        cmd = cmd.format(\n",
    "            ta,\n",
    "            chrsz,\n",
    "            -half_fraglen,\n",
    "            half_fraglen,\n",
    "            tmp2) # peak\n",
    "        val1 = run_shell_cmd(cmd)\n",
    "        rm_f(tmp2)\n",
    "    val2 = get_num_lines(ta)\n",
    "    write_txt(frip_qc, str(float(val1)/float(val2)))\n",
    "    return frip_qc\n",
    "\n",
    "def main():\n",
    "    # read params\n",
    "    args = parse_arguments()\n",
    "    log.info('Initializing and making output directory...')\n",
    "    mkdir_p(args.out_dir)\n",
    "\n",
    "    if args.fraglen:\n",
    "        frip_qc = frip_shifted(args.ta, args.peak, \n",
    "            args.chrsz, args.fraglen, args.out_dir)\n",
    "    else:\n",
    "        frip_qc = frip(args.ta, args.peak, args.out_dir)\n",
    "\n",
    "    log.info('List all files in output directory...')\n",
    "    ls_l(args.out_dir)\n",
    "\n",
    "    log.info('All done.')\n",
    "\n",
    "if __name__=='__main__':\n",
    "    main()"
   ]
  },
  {
   "cell_type": "code",
   "execution_count": 2,
   "metadata": {},
   "outputs": [],
   "source": [
    "os.chdir(\"/athena/elementolab/scratch/asd2007/projectsmm10/datasets/atacseq/eclv5363/work/c0/391854d4d6f3dc785d11a0b0269d22\")"
   ]
  },
  {
   "cell_type": "code",
   "execution_count": 4,
   "metadata": {},
   "outputs": [],
   "source": [
    "FINAL_BED = \"./Sample_XMU_C1.nodup.bedpe.gz\"\n",
    "PEAKS = \"./mm10_univ_dhs_ucsc.bed.gz\"\n",
    "OUTFILE= \"testout.txt\""
   ]
  },
  {
   "cell_type": "code",
   "execution_count": 7,
   "metadata": {},
   "outputs": [
    {
     "name": "stdout",
     "output_type": "stream",
     "text": [
      "PID=76780: 2223656\n",
      "PID=76789: 0\n",
      "PID=76792: 0\n"
     ]
    },
    {
     "ename": "ZeroDivisionError",
     "evalue": "float division by zero",
     "output_type": "error",
     "traceback": [
      "\u001b[0;31m---------------------------------------------------------------------------\u001b[0m",
      "\u001b[0;31mZeroDivisionError\u001b[0m                         Traceback (most recent call last)",
      "\u001b[0;32m<ipython-input-7-b1ded8da6fc9>\u001b[0m in \u001b[0;36m<module>\u001b[0;34m()\u001b[0m\n\u001b[0;32m----> 1\u001b[0;31m \u001b[0mfrip\u001b[0m\u001b[0;34m(\u001b[0m\u001b[0mFINAL_BED\u001b[0m\u001b[0;34m,\u001b[0m \u001b[0mPEAKS\u001b[0m\u001b[0;34m,\u001b[0m \u001b[0;34m\"./\"\u001b[0m\u001b[0;34m)\u001b[0m\u001b[0;34m\u001b[0m\u001b[0m\n\u001b[0m",
      "\u001b[0;32m<ipython-input-1-a640e21b9cd0>\u001b[0m in \u001b[0;36mfrip\u001b[0;34m(ta, peak, out_dir)\u001b[0m\n\u001b[1;32m     52\u001b[0m         \u001b[0mval1\u001b[0m \u001b[0;34m=\u001b[0m \u001b[0mrun_shell_cmd\u001b[0m\u001b[0;34m(\u001b[0m\u001b[0mcmd\u001b[0m\u001b[0;34m)\u001b[0m\u001b[0;34m\u001b[0m\u001b[0m\n\u001b[1;32m     53\u001b[0m     \u001b[0mval2\u001b[0m \u001b[0;34m=\u001b[0m \u001b[0mget_num_lines\u001b[0m\u001b[0;34m(\u001b[0m\u001b[0mta\u001b[0m\u001b[0;34m)\u001b[0m\u001b[0;34m\u001b[0m\u001b[0m\n\u001b[0;32m---> 54\u001b[0;31m     \u001b[0mwrite_txt\u001b[0m\u001b[0;34m(\u001b[0m\u001b[0mfrip_qc\u001b[0m\u001b[0;34m,\u001b[0m \u001b[0mstr\u001b[0m\u001b[0;34m(\u001b[0m\u001b[0mfloat\u001b[0m\u001b[0;34m(\u001b[0m\u001b[0mval1\u001b[0m\u001b[0;34m)\u001b[0m\u001b[0;34m/\u001b[0m\u001b[0mfloat\u001b[0m\u001b[0;34m(\u001b[0m\u001b[0mval2\u001b[0m\u001b[0;34m)\u001b[0m\u001b[0;34m)\u001b[0m\u001b[0;34m)\u001b[0m\u001b[0;34m\u001b[0m\u001b[0m\n\u001b[0m\u001b[1;32m     55\u001b[0m     \u001b[0mrm_f\u001b[0m\u001b[0;34m(\u001b[0m\u001b[0;34m[\u001b[0m\u001b[0mtmp1\u001b[0m\u001b[0;34m,\u001b[0m \u001b[0mtmp2\u001b[0m\u001b[0;34m]\u001b[0m\u001b[0;34m)\u001b[0m\u001b[0;34m\u001b[0m\u001b[0m\n\u001b[1;32m     56\u001b[0m     \u001b[0;32mreturn\u001b[0m \u001b[0mfrip_qc\u001b[0m\u001b[0;34m\u001b[0m\u001b[0m\n",
      "\u001b[0;31mZeroDivisionError\u001b[0m: float division by zero"
     ]
    }
   ],
   "source": [
    "frip(FINAL_BED, PEAKS, \"./\")"
   ]
  },
  {
   "cell_type": "code",
   "execution_count": null,
   "metadata": {},
   "outputs": [],
   "source": []
  }
 ],
 "metadata": {
  "kernelspec": {
   "display_name": "Python [conda env:atacFlow]",
   "language": "python",
   "name": "conda-env-atacFlow-py"
  },
  "language_info": {
   "codemirror_mode": {
    "name": "ipython",
    "version": 2
   },
   "file_extension": ".py",
   "mimetype": "text/x-python",
   "name": "python",
   "nbconvert_exporter": "python",
   "pygments_lexer": "ipython2",
   "version": "2.7.14"
  }
 },
 "nbformat": 4,
 "nbformat_minor": 2
}
